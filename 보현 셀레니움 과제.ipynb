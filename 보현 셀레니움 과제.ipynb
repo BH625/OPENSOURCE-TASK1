{
 "cells": [
  {
   "cell_type": "code",
   "execution_count": 1,
   "id": "102fce28",
   "metadata": {},
   "outputs": [],
   "source": [
    "from selenium import webdriver\n",
    "from selenium.webdriver.common.keys import Keys\n",
    "from selenium.webdriver.common.by import By\n",
    "\n",
    "driver = webdriver.Chrome(\"C:/Users/FORYOUCOM/Downloads/chromedriver_win32/chromedriver.exe\")\n",
    "driver.get(\"https://www.google.co.kr/imghp?hl=ko&tab=ri&authuser=0&ogbl\")\n",
    "elem = driver.find_element(By.NAME, \"q\")\n",
    "elem.send_keys(\"잔나비\")\n",
    "elem.send_keys(Keys.RETURN)"
   ]
  },
  {
   "cell_type": "code",
   "execution_count": null,
   "id": "b9cfb6bb",
   "metadata": {},
   "outputs": [],
   "source": []
  }
 ],
 "metadata": {
  "kernelspec": {
   "display_name": "Python 3 (ipykernel)",
   "language": "python",
   "name": "python3"
  },
  "language_info": {
   "codemirror_mode": {
    "name": "ipython",
    "version": 3
   },
   "file_extension": ".py",
   "mimetype": "text/x-python",
   "name": "python",
   "nbconvert_exporter": "python",
   "pygments_lexer": "ipython3",
   "version": "3.9.16"
  }
 },
 "nbformat": 4,
 "nbformat_minor": 5
}
